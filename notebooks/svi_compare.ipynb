{
 "cells": [
  {
   "cell_type": "code",
   "execution_count": 1,
   "metadata": {
    "ExecuteTime": {
     "end_time": "2024-01-07T10:47:44.978355Z",
     "start_time": "2024-01-07T10:47:44.248928Z"
    },
    "pycharm": {
     "name": "#%%\n"
    }
   },
   "outputs": [],
   "source": [
    "import numpy as np\n",
    "import torch\n",
    "import os \n",
    "\n",
    "import matplotlib\n",
    "import matplotlib.pyplot as plt\n",
    "\n",
    "\n",
    "# import corner\n",
    "import seaborn as sns\n",
    "sns.set()"
   ]
  },
  {
   "cell_type": "code",
   "execution_count": 2,
   "metadata": {},
   "outputs": [
    {
     "name": "stdout",
     "output_type": "stream",
     "text": [
      "c:\\Users\\ja.borowski\\Documents\\deconv\\density-deconvolution-astro\\notebooks\n"
     ]
    }
   ],
   "source": [
    "print(os.getcwd())"
   ]
  },
  {
   "cell_type": "code",
   "execution_count": 3,
   "metadata": {
    "ExecuteTime": {
     "end_time": "2024-01-07T10:47:44.981518Z",
     "start_time": "2024-01-07T10:47:44.978921Z"
    },
    "pycharm": {
     "name": "#%%\n"
    }
   },
   "outputs": [],
   "source": [
    "import sys\n",
    "sys.path.append(\"c:\\\\Users\\\\ja.borowski\\\\Documents\\\\deconv\\\\density-deconvolution-astro\\\\\")\n"
   ]
  },
  {
   "cell_type": "code",
   "execution_count": 4,
   "metadata": {
    "ExecuteTime": {
     "end_time": "2024-01-07T10:47:45.147099Z",
     "start_time": "2024-01-07T10:47:45.144193Z"
    },
    "pycharm": {
     "name": "#%%\n"
    }
   },
   "outputs": [],
   "source": [
    "device = torch.device(\"cpu\")"
   ]
  },
  {
   "cell_type": "markdown",
   "metadata": {
    "pycharm": {
     "name": "#%% md\n"
    }
   },
   "source": [
    "# Create data"
   ]
  },
  {
   "cell_type": "code",
   "execution_count": 5,
   "metadata": {
    "ExecuteTime": {
     "end_time": "2024-01-07T10:47:46.078509Z",
     "start_time": "2024-01-07T10:47:46.067937Z"
    },
    "pycharm": {
     "name": "#%%\n"
    }
   },
   "outputs": [],
   "source": [
    "means = torch.Tensor([\n",
    "    [0.0, 0.0],\n",
    "    [2, 3],\n",
    "    [2, -3]\n",
    "])\n",
    "covars = torch.Tensor([\n",
    "    [\n",
    "        [0.1, 0],\n",
    "        [0, 1.5]\n",
    "    ],\n",
    "    [\n",
    "        [1, 0],\n",
    "        [0, 0.1]\n",
    "    ],\n",
    "    [\n",
    "        [1, 0],\n",
    "        [0, 0.1]\n",
    "    ]\n",
    "])\n",
    "\n",
    "Z = torch.distributions.MultivariateNormal(loc=means, covariance_matrix=covars).sample((10000,)).reshape((-1, 2))"
   ]
  },
  {
   "cell_type": "code",
   "execution_count": 6,
   "metadata": {
    "ExecuteTime": {
     "end_time": "2024-01-07T10:47:46.860068Z",
     "start_time": "2024-01-07T10:47:46.644200Z"
    },
    "pycharm": {
     "name": "#%%\n"
    }
   },
   "outputs": [],
   "source": [
    "idx = torch.randperm(Z.shape[0])\n",
    "Z = Z[idx]\n",
    "Z_train = Z[:Z.shape[0] // 2]\n",
    "Z_test = Z[Z.shape[0] // 2:]\n",
    "\n"
   ]
  },
  {
   "cell_type": "markdown",
   "metadata": {
    "pycharm": {
     "name": "#%% md\n"
    }
   },
   "source": [
    "# Add error"
   ]
  },
  {
   "cell_type": "code",
   "execution_count": 7,
   "metadata": {
    "ExecuteTime": {
     "end_time": "2024-01-07T10:47:49.107804Z",
     "start_time": "2024-01-07T10:47:48.994841Z"
    },
    "pycharm": {
     "name": "#%%\n"
    }
   },
   "outputs": [],
   "source": [
    "S = torch.Tensor([\n",
    "    [0.1, 0],\n",
    "    [0, 3]\n",
    "])\n",
    "X = Z + torch.distributions.MultivariateNormal(loc=torch.Tensor([0.0, 0.0]), covariance_matrix=S).sample((Z.shape[0],))\n",
    "X_train = X[:X.shape[0] // 2]\n",
    "X_test = X[X.shape[0] // 2:]\n",
    "\n"
   ]
  },
  {
   "cell_type": "markdown",
   "metadata": {
    "collapsed": false
   },
   "source": [
    "# Train "
   ]
  },
  {
   "cell_type": "code",
   "execution_count": 8,
   "metadata": {
    "ExecuteTime": {
     "end_time": "2024-01-07T10:47:51.879540Z",
     "start_time": "2024-01-07T10:47:51.813203Z"
    },
    "pycharm": {
     "name": "#%%\n"
    }
   },
   "outputs": [],
   "source": [
    "from deconv.gmm.data import DeconvDataset\n",
    "\n",
    "train_data = DeconvDataset(X_train, torch.linalg.cholesky(S.repeat(X_train.shape[0], 1, 1)))\n",
    "test_data = DeconvDataset(X_test, torch.linalg.cholesky(S.repeat(X_test.shape[0], 1, 1)))"
   ]
  },
  {
   "cell_type": "code",
   "execution_count": 9,
   "metadata": {
    "pycharm": {
     "name": "#%%\n"
    }
   },
   "outputs": [],
   "source": [
    "# from deconv.gmm.sgd_deconv_gmm import SGDDeconvGMM\n",
    "\n",
    "# gmm = SGDDeconvGMM(\n",
    "#     3,\n",
    "#     2,\n",
    "#     batch_size=200,\n",
    "#     lr=1e-1,\n",
    "#     epochs=100,\n",
    "#     #device=torch.device('cpu')\n",
    "# )\n",
    "# gmm.fit(train_data, verbose=True)"
   ]
  },
  {
   "cell_type": "code",
   "execution_count": 10,
   "metadata": {
    "ExecuteTime": {
     "end_time": "2024-01-07T10:47:59.994965Z",
     "start_time": "2024-01-07T10:47:59.983276Z"
    },
    "pycharm": {
     "name": "#%%\n"
    }
   },
   "outputs": [],
   "source": [
    "# S.shape"
   ]
  },
  {
   "cell_type": "code",
   "execution_count": 19,
   "metadata": {
    "ExecuteTime": {
     "end_time": "2024-01-07T10:48:01.605482Z",
     "start_time": "2024-01-07T10:48:01.574386Z"
    },
    "pycharm": {
     "name": "#%%\n"
    },
    "scrolled": true
   },
   "outputs": [],
   "source": [
    "from deconv.flow.svi import SVIFlow\n",
    "\n",
    "svi = SVIFlow(\n",
    "    2,\n",
    "    5,\n",
    "    device=torch.device(\"cpu\"),\n",
    "    batch_size=1000,\n",
    "    epochs=20,\n",
    "    lr=1e-4,\n",
    "    n_samples=50,\n",
    "    use_iwae=True\n",
    ")"
   ]
  },
  {
   "cell_type": "code",
   "execution_count": 20,
   "metadata": {
    "ExecuteTime": {
     "end_time": "2024-01-07T12:01:26.881573Z",
     "start_time": "2024-01-07T10:48:03.432137Z"
    },
    "collapsed": true,
    "jupyter": {
     "outputs_hidden": true
    },
    "pycharm": {
     "name": "#%%\n"
    }
   },
   "outputs": [
    {
     "name": "stdout",
     "output_type": "stream",
     "text": [
      "Epoch 0, Train Loss: -11.7118283203125\n",
      "Epoch 1, Train Loss: -6.0381539388020835\n",
      "Epoch 2, Train Loss: -5.484257682291667\n",
      "Epoch 3, Train Loss: -5.1410354817708335\n",
      "Epoch 4, Train Loss: -4.891824967447917\n",
      "Epoch 5, Train Loss: -4.663186686197917\n",
      "Epoch 6, Train Loss: -4.419539876302084\n",
      "Epoch 7, Train Loss: -4.265937825520833\n",
      "Epoch 8, Train Loss: -4.217412760416667\n",
      "Epoch 9, Train Loss: -4.19112216796875\n",
      "Epoch 10, Train Loss: -4.18272880859375\n",
      "Epoch 11, Train Loss: -4.1743958333333335\n",
      "Epoch 12, Train Loss: -4.172768587239584\n",
      "Epoch 13, Train Loss: -4.168663606770833\n",
      "Epoch 14, Train Loss: -4.164873111979166\n",
      "Epoch 15, Train Loss: -4.16284326171875\n",
      "Epoch 16, Train Loss: -4.158644759114583\n",
      "Epoch 17, Train Loss: -4.16108583984375\n",
      "Epoch 18, Train Loss: -4.158961653645833\n",
      "Epoch 19, Train Loss: -4.156626985677083\n",
      "CPU times: total: 50min 10s\n",
      "Wall time: 33min 45s\n"
     ]
    }
   ],
   "source": [
    "%%time\n",
    "svi.fit(train_data, val_data=None)\n",
    "torch.set_default_tensor_type('torch.FloatTensor')\n",
    "\n"
   ]
  },
  {
   "cell_type": "code",
   "execution_count": 21,
   "metadata": {
    "ExecuteTime": {
     "end_time": "2024-01-07T12:11:31.579090Z",
     "start_time": "2024-01-07T12:11:30.462805Z"
    },
    "pycharm": {
     "name": "#%%\n"
    }
   },
   "outputs": [
    {
     "data": {
      "image/png": "[encoded data removed]",
      "text/plain": [
       "<Figure size 640x480 with 1 Axes>"
      ]
     },
     "metadata": {},
     "output_type": "display_data"
    }
   ],
   "source": [
    "os.environ[\"KMP_DUPLICATE_LIB_OK\"]=\"TRUE\"\n",
    "torch.set_default_tensor_type('torch.FloatTensor')\n",
    "prior_samples = svi.sample_prior(100_000)\n",
    "\n",
    "fig, ax = plt.subplots()\n",
    "plt.hist2d(prior_samples[0, :, 0].numpy(), prior_samples[0, :, 1].numpy(), bins=100) #, ax=ax)\n",
    "x_lim = (-2, 6)\n",
    "y_lim = (-6, 6)\n",
    "ax.set_xlim(x_lim)\n",
    "ax.set_ylim(y_lim)\n",
    "ax.set_title('Prior fitted with ELBO');"
   ]
  },
  {
   "cell_type": "code",
   "execution_count": 14,
   "metadata": {
    "ExecuteTime": {
     "end_time": "2024-01-07T12:08:23.008686Z",
     "start_time": "2024-01-07T12:08:22.716723Z"
    },
    "pycharm": {
     "name": "#%%\n"
    }
   },
   "outputs": [
    {
     "name": "stderr",
     "output_type": "stream",
     "text": [
      "C:\\Users\\ja.borowski\\AppData\\Local\\Temp\\ipykernel_24668\\2872830058.py:14: UserWarning: torch.cholesky is deprecated in favor of torch.linalg.cholesky and will be removed in a future PyTorch release.\n",
      "L = torch.cholesky(A)\n",
      "should be replaced with\n",
      "L = torch.linalg.cholesky(A)\n",
      "and\n",
      "U = torch.cholesky(A, upper=True)\n",
      "should be replaced with\n",
      "U = torch.linalg.cholesky(A).mH\n",
      "This transform will produce equivalent results for all valid (symmetric positive definite) inputs. (Triggered internally at ..\\aten\\src\\ATen\\native\\BatchLinearAlgebra.cpp:1703.)\n",
      "  torch.cholesky(torch.Tensor(cov)).to(svi.device)\n"
     ]
    },
    {
     "ename": "TypeError",
     "evalue": "object of type 'generator' has no len()",
     "output_type": "error",
     "traceback": [
      "\u001b[1;31m---------------------------------------------------------------------------\u001b[0m",
      "\u001b[1;31mTypeError\u001b[0m                                 Traceback (most recent call last)",
      "Cell \u001b[1;32mIn[14], line 17\u001b[0m\n\u001b[0;32m     12\u001b[0m test_point \u001b[38;5;241m=\u001b[39m [\n\u001b[0;32m     13\u001b[0m     torch\u001b[38;5;241m.\u001b[39mTensor(mean)\u001b[38;5;241m.\u001b[39mto(svi\u001b[38;5;241m.\u001b[39mdevice),\n\u001b[0;32m     14\u001b[0m     torch\u001b[38;5;241m.\u001b[39mcholesky(torch\u001b[38;5;241m.\u001b[39mTensor(cov))\u001b[38;5;241m.\u001b[39mto(svi\u001b[38;5;241m.\u001b[39mdevice)\n\u001b[0;32m     15\u001b[0m ]\n\u001b[0;32m     16\u001b[0m torch\u001b[38;5;241m.\u001b[39mset_default_tensor_type(\u001b[38;5;124m'\u001b[39m\u001b[38;5;124mtorch.FloatTensor\u001b[39m\u001b[38;5;124m'\u001b[39m)\n\u001b[1;32m---> 17\u001b[0m posterior_samples \u001b[38;5;241m=\u001b[39m svi\u001b[38;5;241m.\u001b[39mresample_posterior(test_point, \u001b[38;5;241m10000\u001b[39m)\n\u001b[0;32m     19\u001b[0m \u001b[38;5;28;01mfrom\u001b[39;00m \u001b[38;5;21;01mdeconv\u001b[39;00m\u001b[38;5;21;01m.\u001b[39;00m\u001b[38;5;21;01mgmm\u001b[39;00m\u001b[38;5;21;01m.\u001b[39;00m\u001b[38;5;21;01mplotting\u001b[39;00m \u001b[38;5;28;01mimport\u001b[39;00m plot_covariance\n\u001b[0;32m     20\u001b[0m fig, ax \u001b[38;5;241m=\u001b[39m plt\u001b[38;5;241m.\u001b[39msubplots()\n",
      "File \u001b[1;32mc:\\Users\\ja.borowski\\Documents\\deconv\\density-deconvolution-astro\\deconv\\flow\\svi.py:262\u001b[0m, in \u001b[0;36mSVIFlow.resample_posterior\u001b[1;34m(self, x, num_samples, device)\u001b[0m\n\u001b[0;32m    259\u001b[0m \u001b[38;5;28mself\u001b[39m\u001b[38;5;241m.\u001b[39mmodel\u001b[38;5;241m.\u001b[39meval()\n\u001b[0;32m    260\u001b[0m context \u001b[38;5;241m=\u001b[39m \u001b[38;5;28mself\u001b[39m\u001b[38;5;241m.\u001b[39mmodel\u001b[38;5;241m.\u001b[39m_inputs_encoder(x)\n\u001b[1;32m--> 262\u001b[0m \u001b[38;5;28;01mreturn\u001b[39;00m minibatch_sample(\n\u001b[0;32m    263\u001b[0m     \u001b[38;5;28mself\u001b[39m\u001b[38;5;241m.\u001b[39m_resample_posterior,\n\u001b[0;32m    264\u001b[0m     num_samples,\n\u001b[0;32m    265\u001b[0m     \u001b[38;5;28mself\u001b[39m\u001b[38;5;241m.\u001b[39mdimensions,\n\u001b[0;32m    266\u001b[0m     \u001b[38;5;28mself\u001b[39m\u001b[38;5;241m.\u001b[39mbatch_size,\n\u001b[0;32m    267\u001b[0m     device,\n\u001b[0;32m    268\u001b[0m     context\u001b[38;5;241m=\u001b[39mcontext,\n\u001b[0;32m    269\u001b[0m     x\u001b[38;5;241m=\u001b[39mx\n\u001b[0;32m    270\u001b[0m )\n",
      "File \u001b[1;32mc:\\Users\\ja.borowski\\Documents\\deconv\\density-deconvolution-astro\\deconv\\utils\\sampling.py:22\u001b[0m, in \u001b[0;36mminibatch_sample\u001b[1;34m(sample_f, num_samples, dimensions, batch_size, device, context, x)\u001b[0m\n\u001b[0;32m     20\u001b[0m         samples[:, start:stop, :] \u001b[38;5;241m=\u001b[39m sample_f(n, context\u001b[38;5;241m=\u001b[39mcontext)\u001b[38;5;241m.\u001b[39mto(device)\n\u001b[0;32m     21\u001b[0m     \u001b[38;5;28;01melse\u001b[39;00m:\n\u001b[1;32m---> 22\u001b[0m         samples[:, start:stop, :] \u001b[38;5;241m=\u001b[39m sample_f(x, n, context\u001b[38;5;241m=\u001b[39mcontext)\u001b[38;5;241m.\u001b[39mto(device)\n\u001b[0;32m     24\u001b[0m \u001b[38;5;28;01mreturn\u001b[39;00m samples\n",
      "File \u001b[1;32mc:\\Users\\ja.borowski\\Documents\\deconv\\density-deconvolution-astro\\deconv\\flow\\svi.py:252\u001b[0m, in \u001b[0;36mSVIFlow._resample_posterior\u001b[1;34m(self, x, num_samples, context)\u001b[0m\n\u001b[0;32m    248\u001b[0m samples \u001b[38;5;241m=\u001b[39m utils\u001b[38;5;241m.\u001b[39msplit_leading_dim(samples, [\u001b[38;5;241m-\u001b[39m\u001b[38;5;241m1\u001b[39m, num_samples])\n\u001b[0;32m    249\u001b[0m idx \u001b[38;5;241m=\u001b[39m torch\u001b[38;5;241m.\u001b[39mdistributions\u001b[38;5;241m.\u001b[39mCategorical(logits\u001b[38;5;241m=\u001b[39mlog_w)\u001b[38;5;241m.\u001b[39msample([num_samples])\n\u001b[0;32m    251\u001b[0m \u001b[38;5;28;01mreturn\u001b[39;00m samples[\n\u001b[1;32m--> 252\u001b[0m     torch\u001b[38;5;241m.\u001b[39marange(\u001b[38;5;28mlen\u001b[39m(x), device\u001b[38;5;241m=\u001b[39m\u001b[38;5;28mself\u001b[39m\u001b[38;5;241m.\u001b[39mdevice)[:, \u001b[38;5;28;01mNone\u001b[39;00m, \u001b[38;5;28;01mNone\u001b[39;00m],\n\u001b[0;32m    253\u001b[0m     idx\u001b[38;5;241m.\u001b[39mT[:, :, \u001b[38;5;28;01mNone\u001b[39;00m],\n\u001b[0;32m    254\u001b[0m     torch\u001b[38;5;241m.\u001b[39marange(\u001b[38;5;28mself\u001b[39m\u001b[38;5;241m.\u001b[39mdimensions, device\u001b[38;5;241m=\u001b[39m\u001b[38;5;28mself\u001b[39m\u001b[38;5;241m.\u001b[39mdevice)[\u001b[38;5;28;01mNone\u001b[39;00m, \u001b[38;5;28;01mNone\u001b[39;00m, :]\n\u001b[0;32m    255\u001b[0m ]\n",
      "\u001b[1;31mTypeError\u001b[0m: object of type 'generator' has no len()"
     ]
    }
   ],
   "source": [
    "mean = np.array([[3.0, 0.0], [0.0, 0.0]])\n",
    "cov = np.array([\n",
    "    [\n",
    "        [0.1, 0],\n",
    "        [0, 3]\n",
    "    ],\n",
    "    [\n",
    "        [0.1, 0],\n",
    "        [0, 3]\n",
    "    ]\n",
    "])\n",
    "test_point = [\n",
    "    torch.Tensor(mean).to(svi.device),\n",
    "    torch.cholesky(torch.Tensor(cov)).to(svi.device)\n",
    "]\n",
    "torch.set_default_tensor_type('torch.FloatTensor')\n",
    "posterior_samples = svi.resample_posterior(test_point, 10000)\n",
    "\n",
    "from deconv.gmm.plotting import plot_covariance\n",
    "fig, ax = plt.subplots()\n",
    "plt.hist2d(posterior_samples[0, :, 0].numpy(), posterior_samples[0, :, 1].numpy(), ax=ax)\n",
    "ax.set_xlim(x_lim)\n",
    "ax.set_ylim(y_lim)\n",
    "plot_covariance(\n",
    "    mean[0],\n",
    "    cov[0],\n",
    "    ax=ax,\n",
    "    color='r'\n",
    ")\n",
    "ax.set_xlim(x_lim)\n",
    "ax.set_ylim(y_lim)\n",
    "ax.set_title('Recognition network samples for test point, fitted using ELBO.');"
   ]
  },
  {
   "cell_type": "code",
   "execution_count": null,
   "metadata": {
    "collapsed": true,
    "jupyter": {
     "outputs_hidden": true
    },
    "pycharm": {
     "name": "#%%\n"
    }
   },
   "outputs": [
    {
     "ename": "TypeError",
     "evalue": "object of type 'generator' has no len()",
     "output_type": "error",
     "traceback": [
      "\u001b[0;31m---------------------------------------------------------------------------\u001b[0m",
      "\u001b[0;31mTypeError\u001b[0m                                 Traceback (most recent call last)",
      "\u001b[0;32m<ipython-input-19-f112c1ef7ebd>\u001b[0m in \u001b[0;36m<module>\u001b[0;34m\u001b[0m\n\u001b[0;32m----> 1\u001b[0;31m \u001b[0mrsamples\u001b[0m \u001b[0;34m=\u001b[0m \u001b[0msvi\u001b[0m\u001b[0;34m.\u001b[0m\u001b[0mresample_posterior\u001b[0m\u001b[0;34m(\u001b[0m\u001b[0mtest_point\u001b[0m\u001b[0;34m,\u001b[0m \u001b[0;36m10_000\u001b[0m\u001b[0;34m)\u001b[0m\u001b[0;34m\u001b[0m\u001b[0;34m\u001b[0m\u001b[0m\n\u001b[0m\u001b[1;32m      2\u001b[0m \u001b[0;34m\u001b[0m\u001b[0m\n\u001b[1;32m      3\u001b[0m \u001b[0mfig\u001b[0m\u001b[0;34m,\u001b[0m \u001b[0max\u001b[0m \u001b[0;34m=\u001b[0m \u001b[0mplt\u001b[0m\u001b[0;34m.\u001b[0m\u001b[0msubplots\u001b[0m\u001b[0;34m(\u001b[0m\u001b[0;34m)\u001b[0m\u001b[0;34m\u001b[0m\u001b[0;34m\u001b[0m\u001b[0m\n\u001b[1;32m      4\u001b[0m \u001b[0mcorner\u001b[0m\u001b[0;34m.\u001b[0m\u001b[0mhist2d\u001b[0m\u001b[0;34m(\u001b[0m\u001b[0mrsamples\u001b[0m\u001b[0;34m[\u001b[0m\u001b[0;36m0\u001b[0m\u001b[0;34m,\u001b[0m \u001b[0;34m:\u001b[0m\u001b[0;34m,\u001b[0m \u001b[0;36m0\u001b[0m\u001b[0;34m]\u001b[0m\u001b[0;34m.\u001b[0m\u001b[0mcpu\u001b[0m\u001b[0;34m(\u001b[0m\u001b[0;34m)\u001b[0m\u001b[0;34m.\u001b[0m\u001b[0mnumpy\u001b[0m\u001b[0;34m(\u001b[0m\u001b[0;34m)\u001b[0m\u001b[0;34m,\u001b[0m \u001b[0mrsamples\u001b[0m\u001b[0;34m[\u001b[0m\u001b[0;36m0\u001b[0m\u001b[0;34m,\u001b[0m \u001b[0;34m:\u001b[0m\u001b[0;34m,\u001b[0m \u001b[0;36m1\u001b[0m\u001b[0;34m]\u001b[0m\u001b[0;34m.\u001b[0m\u001b[0mcpu\u001b[0m\u001b[0;34m(\u001b[0m\u001b[0;34m)\u001b[0m\u001b[0;34m.\u001b[0m\u001b[0mnumpy\u001b[0m\u001b[0;34m(\u001b[0m\u001b[0;34m)\u001b[0m\u001b[0;34m,\u001b[0m \u001b[0max\u001b[0m\u001b[0;34m=\u001b[0m\u001b[0max\u001b[0m\u001b[0;34m)\u001b[0m\u001b[0;34m\u001b[0m\u001b[0;34m\u001b[0m\u001b[0m\n\u001b[1;32m      5\u001b[0m \u001b[0max\u001b[0m\u001b[0;34m.\u001b[0m\u001b[0mset_xlim\u001b[0m\u001b[0;34m(\u001b[0m\u001b[0mx_lim\u001b[0m\u001b[0;34m)\u001b[0m\u001b[0;34m\u001b[0m\u001b[0;34m\u001b[0m\u001b[0m\n",
      "\u001b[0;32m~/Documents/projects/density-deconvolution-astro/deconv/flow/svi.py\u001b[0m in \u001b[0;36mresample_posterior\u001b[0;34m(self, x, num_samples, device)\u001b[0m\n\u001b[1;32m    257\u001b[0m             \u001b[0mcontext\u001b[0m \u001b[0;34m=\u001b[0m \u001b[0mself\u001b[0m\u001b[0;34m.\u001b[0m\u001b[0mmodel\u001b[0m\u001b[0;34m.\u001b[0m\u001b[0m_inputs_encoder\u001b[0m\u001b[0;34m(\u001b[0m\u001b[0mx\u001b[0m\u001b[0;34m)\u001b[0m\u001b[0;34m\u001b[0m\u001b[0;34m\u001b[0m\u001b[0m\n\u001b[1;32m    258\u001b[0m \u001b[0;34m\u001b[0m\u001b[0m\n\u001b[0;32m--> 259\u001b[0;31m             return minibatch_sample(\n\u001b[0m\u001b[1;32m    260\u001b[0m                 \u001b[0mself\u001b[0m\u001b[0;34m.\u001b[0m\u001b[0m_resample_posterior\u001b[0m\u001b[0;34m,\u001b[0m\u001b[0;34m\u001b[0m\u001b[0;34m\u001b[0m\u001b[0m\n\u001b[1;32m    261\u001b[0m                 \u001b[0mnum_samples\u001b[0m\u001b[0;34m,\u001b[0m\u001b[0;34m\u001b[0m\u001b[0;34m\u001b[0m\u001b[0m\n",
      "\u001b[0;32m~/Documents/projects/density-deconvolution-astro/deconv/utils/sampling.py\u001b[0m in \u001b[0;36mminibatch_sample\u001b[0;34m(sample_f, num_samples, dimensions, batch_size, device, context, x)\u001b[0m\n\u001b[1;32m     21\u001b[0m             \u001b[0msamples\u001b[0m\u001b[0;34m[\u001b[0m\u001b[0;34m:\u001b[0m\u001b[0;34m,\u001b[0m \u001b[0mstart\u001b[0m\u001b[0;34m:\u001b[0m\u001b[0mstop\u001b[0m\u001b[0;34m,\u001b[0m \u001b[0;34m:\u001b[0m\u001b[0;34m]\u001b[0m \u001b[0;34m=\u001b[0m \u001b[0msample_f\u001b[0m\u001b[0;34m(\u001b[0m\u001b[0mn\u001b[0m\u001b[0;34m,\u001b[0m \u001b[0mcontext\u001b[0m\u001b[0;34m=\u001b[0m\u001b[0mcontext\u001b[0m\u001b[0;34m)\u001b[0m\u001b[0;34m.\u001b[0m\u001b[0mto\u001b[0m\u001b[0;34m(\u001b[0m\u001b[0mdevice\u001b[0m\u001b[0;34m)\u001b[0m\u001b[0;34m\u001b[0m\u001b[0;34m\u001b[0m\u001b[0m\n\u001b[1;32m     22\u001b[0m         \u001b[0;32melse\u001b[0m\u001b[0;34m:\u001b[0m\u001b[0;34m\u001b[0m\u001b[0;34m\u001b[0m\u001b[0m\n\u001b[0;32m---> 23\u001b[0;31m             \u001b[0msamples\u001b[0m\u001b[0;34m[\u001b[0m\u001b[0;34m:\u001b[0m\u001b[0;34m,\u001b[0m \u001b[0mstart\u001b[0m\u001b[0;34m:\u001b[0m\u001b[0mstop\u001b[0m\u001b[0;34m,\u001b[0m \u001b[0;34m:\u001b[0m\u001b[0;34m]\u001b[0m \u001b[0;34m=\u001b[0m \u001b[0msample_f\u001b[0m\u001b[0;34m(\u001b[0m\u001b[0mx\u001b[0m\u001b[0;34m,\u001b[0m \u001b[0mn\u001b[0m\u001b[0;34m,\u001b[0m \u001b[0mcontext\u001b[0m\u001b[0;34m=\u001b[0m\u001b[0mcontext\u001b[0m\u001b[0;34m)\u001b[0m\u001b[0;34m.\u001b[0m\u001b[0mto\u001b[0m\u001b[0;34m(\u001b[0m\u001b[0mdevice\u001b[0m\u001b[0;34m)\u001b[0m\u001b[0;34m\u001b[0m\u001b[0;34m\u001b[0m\u001b[0m\n\u001b[0m\u001b[1;32m     24\u001b[0m \u001b[0;34m\u001b[0m\u001b[0m\n\u001b[1;32m     25\u001b[0m     \u001b[0;32mreturn\u001b[0m \u001b[0msamples\u001b[0m\u001b[0;34m\u001b[0m\u001b[0;34m\u001b[0m\u001b[0m\n",
      "\u001b[0;32m~/Documents/projects/density-deconvolution-astro/deconv/flow/svi.py\u001b[0m in \u001b[0;36m_resample_posterior\u001b[0;34m(self, x, num_samples, context)\u001b[0m\n\u001b[1;32m    247\u001b[0m \u001b[0;34m\u001b[0m\u001b[0m\n\u001b[1;32m    248\u001b[0m         return samples[\n\u001b[0;32m--> 249\u001b[0;31m             \u001b[0mtorch\u001b[0m\u001b[0;34m.\u001b[0m\u001b[0marange\u001b[0m\u001b[0;34m(\u001b[0m\u001b[0mlen\u001b[0m\u001b[0;34m(\u001b[0m\u001b[0mx\u001b[0m\u001b[0;34m)\u001b[0m\u001b[0;34m,\u001b[0m \u001b[0mdevice\u001b[0m\u001b[0;34m=\u001b[0m\u001b[0mself\u001b[0m\u001b[0;34m.\u001b[0m\u001b[0mdevice\u001b[0m\u001b[0;34m)\u001b[0m\u001b[0;34m[\u001b[0m\u001b[0;34m:\u001b[0m\u001b[0;34m,\u001b[0m \u001b[0;32mNone\u001b[0m\u001b[0;34m,\u001b[0m \u001b[0;32mNone\u001b[0m\u001b[0;34m]\u001b[0m\u001b[0;34m,\u001b[0m\u001b[0;34m\u001b[0m\u001b[0;34m\u001b[0m\u001b[0m\n\u001b[0m\u001b[1;32m    250\u001b[0m             \u001b[0midx\u001b[0m\u001b[0;34m.\u001b[0m\u001b[0mT\u001b[0m\u001b[0;34m[\u001b[0m\u001b[0;34m:\u001b[0m\u001b[0;34m,\u001b[0m \u001b[0;34m:\u001b[0m\u001b[0;34m,\u001b[0m \u001b[0;32mNone\u001b[0m\u001b[0;34m]\u001b[0m\u001b[0;34m,\u001b[0m\u001b[0;34m\u001b[0m\u001b[0;34m\u001b[0m\u001b[0m\n\u001b[1;32m    251\u001b[0m             \u001b[0mtorch\u001b[0m\u001b[0;34m.\u001b[0m\u001b[0marange\u001b[0m\u001b[0;34m(\u001b[0m\u001b[0mself\u001b[0m\u001b[0;34m.\u001b[0m\u001b[0mdimensions\u001b[0m\u001b[0;34m,\u001b[0m \u001b[0mdevice\u001b[0m\u001b[0;34m=\u001b[0m\u001b[0mself\u001b[0m\u001b[0;34m.\u001b[0m\u001b[0mdevice\u001b[0m\u001b[0;34m)\u001b[0m\u001b[0;34m[\u001b[0m\u001b[0;32mNone\u001b[0m\u001b[0;34m,\u001b[0m \u001b[0;32mNone\u001b[0m\u001b[0;34m,\u001b[0m \u001b[0;34m:\u001b[0m\u001b[0;34m]\u001b[0m\u001b[0;34m\u001b[0m\u001b[0;34m\u001b[0m\u001b[0m\n",
      "\u001b[0;31mTypeError\u001b[0m: object of type 'generator' has no len()"
     ]
    }
   ],
   "source": [
    "rsamples = svi.resample_posterior(test_point, 10_000)\n",
    "\n",
    "fig, ax = plt.subplots()\n",
    "corner.hist2d(rsamples[0, :, 0].cpu().numpy(), rsamples[0, :, 1].cpu().numpy(), ax=ax)\n",
    "ax.set_xlim(x_lim)\n",
    "ax.set_ylim(y_lim)\n",
    "plot_covariance(\n",
    "    mean[0],\n",
    "    cov[0],\n",
    "    ax=ax,\n",
    "    color='r'\n",
    ")\n",
    "ax.set_xlim(x_lim)\n",
    "ax.set_ylim(y_lim)\n",
    "ax.set_title('Resampled posterior for test point, fitted using ELBO.')"
   ]
  },
  {
   "cell_type": "code",
   "execution_count": null,
   "metadata": {
    "pycharm": {
     "name": "#%%\n"
    }
   },
   "outputs": [
    {
     "ename": "NameError",
     "evalue": "name 'best_model' is not defined",
     "output_type": "error",
     "traceback": [
      "\u001b[0;31m---------------------------------------------------------------------------\u001b[0m",
      "\u001b[0;31mNameError\u001b[0m                                 Traceback (most recent call last)",
      "Cell \u001b[0;32mIn[1], line 1\u001b[0m\n\u001b[0;32m----> 1\u001b[0m importance \u001b[39m=\u001b[39m best_model\u001b[39m.\u001b[39msteps[\u001b[39m1\u001b[39m][\u001b[39m1\u001b[39m]\u001b[39m.\u001b[39mfeature_importances_\n\u001b[1;32m      2\u001b[0m feature_names \u001b[39m=\u001b[39m X_train\u001b[39m.\u001b[39mcolumns\n\u001b[1;32m      4\u001b[0m forest_importances \u001b[39m=\u001b[39m pd\u001b[39m.\u001b[39mSeries(importance, index\u001b[39m=\u001b[39mfeature_names)\n",
      "\u001b[0;31mNameError\u001b[0m: name 'best_model' is not defined"
     ]
    }
   ],
   "source": [
    "importance = best_model.steps[1][1].feature_importances_\n",
    "feature_names = X_train.columns\n",
    "\n",
    "forest_importances = pd.Series(importance, index=feature_names)\n",
    "# sort list of importances\n",
    "sorted_importances = forest_importances.sort_values()\n",
    "plt.bar(feature_names,importance)\n",
    "\n",
    "# leve only features with importance > 0.01\n",
    "to_keep = sorted_importances[sorted_importances > 0.01].index\n",
    "X_train = X_train[to_keep]\n"
   ]
  },
  {
   "cell_type": "code",
   "execution_count": null,
   "metadata": {},
   "outputs": [],
   "source": [
    "from sklearn.model_selection import cross_val_score\n",
    "\n",
    "\n",
    "f1_scorer = make_scorer(f1_score, average='macro')\n",
    "\n",
    "pipeline = Pipeline([\n",
    "        ('preproc', preproc),\n",
    "        # add featrue selection \n",
    "        # ('feature_selection', SelectFromModel(RandomForestClassifier())),\n",
    "        ('model', RandomForestClassifier(sc))\n",
    "    ])\n",
    "# calcuate f1 score using defaind scorer\n",
    "scores = cross_val_score(pipeline, X_train, y_train, cv=5, scoring=f1_scorer)\n",
    "\n",
    "\n",
    "# now remove features with low importance\n",
    "# using score importance from a model \n",
    "# that was trained on all features\n",
    "from sklearn.feature_selection import SelectFromModel\n",
    "from sklearn.ensemble import RandomForestClassifier\n",
    "from sklearn.pipeline import Pipeline\n",
    "from sklearn.model_selection import cross_val_score\n",
    "from sklearn.metrics import f1_score, make_scorer\n",
    "\n",
    "# create a pipeline \n",
    "pipeline = Pipeline([\n",
    "        ('preproc', preproc),\n",
    "        # add featrue selection \n",
    "        ('feature_selection', SelectFromModel(RandomForestClassifier())),\n",
    "        ('model', RandomForestClassifier())\n",
    "    ])\n",
    "#get items from class 1 in training data \n"
   ]
  },
  {
   "cell_type": "code",
   "execution_count": null,
   "metadata": {},
   "outputs": [],
   "source": [
    "\n",
    "\n",
    "\n",
    "\n"
   ]
  }
 ],
 "metadata": {
  "kernelspec": {
   "display_name": "Python 3",
   "language": "python",
   "name": "python3"
  },
  "language_info": {
   "codemirror_mode": {
    "name": "ipython",
    "version": 3
   },
   "file_extension": ".py",
   "mimetype": "text/x-python",
   "name": "python",
   "nbconvert_exporter": "python",
   "pygments_lexer": "ipython3",
   "version": "3.11.5"
  }
 },
 "nbformat": 4,
 "nbformat_minor": 4
}
